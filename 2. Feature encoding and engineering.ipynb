{
 "cells": [
  {
   "cell_type": "code",
   "execution_count": null,
   "metadata": {},
   "outputs": [],
   "source": []
  },
  {
   "cell_type": "markdown",
   "metadata": {},
   "source": [
    "## Bin `MonthlyCharges` column into categories"
   ]
  },
  {
   "cell_type": "code",
   "execution_count": 4,
   "metadata": {},
   "outputs": [],
   "source": [
    "df['Binned_MonthlyCharges'] = pd.cut(x=df['MonthlyCharges'], \n",
    "                                     bins=[0, 30, 55, 70, 90, 110, 120], \n",
    "                                     labels=['$0-30', '$30-55', '$55-70', '$70-90', '$90-110', '$110-120'])\n",
    "\n",
    "df['Binned_MonthlyCharges'] = df['Binned_MonthlyCharges'].astype('category')\n",
    "\n",
    "df['Binned_MonthlyCharges'].cat.reorder_categories(['$0-30', '$30-55', '$55-70', '$70-90', '$90-110', '$110-120'],\n",
    "                                                   inplace=True)"
   ]
  },
  {
   "cell_type": "code",
   "execution_count": 5,
   "metadata": {},
   "outputs": [
    {
     "data": {
      "text/plain": [
       "118.75"
      ]
     },
     "execution_count": 5,
     "metadata": {},
     "output_type": "execute_result"
    }
   ],
   "source": [
    "df['MonthlyCharges'].min()\n",
    "df['MonthlyCharges'].max()"
   ]
  },
  {
   "cell_type": "markdown",
   "metadata": {},
   "source": [
    "## Bin `Tenure` column into categories"
   ]
  },
  {
   "cell_type": "code",
   "execution_count": 6,
   "metadata": {},
   "outputs": [],
   "source": [
    "df['Binned_Tenure'] = pd.cut(x=df['tenure'], \n",
    "                             bins=[0, 5, 20, 40, 65, 72], \n",
    "                             labels=['0-5m', '5-20m', '20-40m', '40-65m', '65-72m'])\n",
    "\n",
    "df['Binned_Tenure'] = df['Binned_Tenure'].astype('category')\n",
    "\n",
    "df['Binned_Tenure'].cat.reorder_categories(['0-5m', '5-20m', '20-40m', '40-65m', '65-72m'],\n",
    "                                           inplace=True)"
   ]
  }
 ],
 "metadata": {
  "kernelspec": {
   "display_name": "Python 3",
   "language": "python",
   "name": "python3"
  },
  "language_info": {
   "codemirror_mode": {
    "name": "ipython",
    "version": 3
   },
   "file_extension": ".py",
   "mimetype": "text/x-python",
   "name": "python",
   "nbconvert_exporter": "python",
   "pygments_lexer": "ipython3",
   "version": "3.6.7"
  }
 },
 "nbformat": 4,
 "nbformat_minor": 2
}
